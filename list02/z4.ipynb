{
 "cells": [
  {
   "cell_type": "code",
   "execution_count": 5,
   "metadata": {},
   "outputs": [
    {
     "name": "stdout",
     "output_type": "stream",
     "text": [
      "The autoreload extension is already loaded. To reload it, use:\n",
      "  %reload_ext autoreload\n"
     ]
    }
   ],
   "source": [
    "import urllib.request\n",
    "import numpy as np\n",
    "import matplotlib.pyplot as plt\n",
    "import time\n",
    "from SGA import SGA\n",
    "from PMX import PMX\n",
    "from utils import *\n",
    "%load_ext autoreload\n",
    "%autoreload 2\n",
    "%matplotlib inline"
   ]
  },
  {
   "cell_type": "code",
   "execution_count": 6,
   "metadata": {
    "collapsed": true
   },
   "outputs": [],
   "source": [
    "qap_data = [\n",
    "    \"nug12\",\n",
    "    \"nug14\",\n",
    "    \"nug15\",\n",
    "    \"nug16a\",\n",
    "    \"nug16b\",\n",
    "    \"nug17\",\n",
    "    \"nug18\",\n",
    "    \"nug20\",\n",
    "    \"nug21\",\n",
    "    \"nug22\",\n",
    "    \"nug24\",\n",
    "    \"nug25\",\n",
    "    \"nug27\",\n",
    "    \"nug28\",\n",
    "#     \"nug30\",\n",
    "    \"tai50a\",\n",
    "    \"tai60a\",\n",
    "    \"tai80a\"\n",
    "]"
   ]
  },
  {
   "cell_type": "code",
   "execution_count": 7,
   "metadata": {
    "collapsed": true
   },
   "outputs": [],
   "source": [
    "QAP_INSTANCE_URL = lambda x: f'http://anjos.mgi.polymtl.ca/qaplib/data.d/{x}.dat'\n",
    "def get_qap_data(qap):\n",
    "    qap_instance_file = urllib.request.urlopen(QAP_INSTANCE_URL(qap))\n",
    "\n",
    "    line = qap_instance_file.readline()\n",
    "    n = int(line.decode()[:-1].split()[0])\n",
    "    print('Problem size: %d' % n)\n",
    "\n",
    "    A = np.empty((n, n))\n",
    "    if 'tai' not in qap:\n",
    "        qap_instance_file.readline()\n",
    "        \n",
    "    for i in range(n):\n",
    "        line = qap_instance_file.readline()\n",
    "        A[i, :] = list(map(int, line.decode()[:-1].split()))\n",
    "\n",
    "    B = np.empty((n, n))\n",
    "    \n",
    "    if qap != 'tai50a':\n",
    "        qap_instance_file.readline()\n",
    "        \n",
    "    for i in range(n):\n",
    "        line = qap_instance_file.readline()\n",
    "        B[i, :] = list(map(int, line.decode()[:-1].split()))\n",
    "    return A, B, n\n",
    "\n",
    "def qap_objective_function(p, A, B, n):\n",
    "    s = 0.0\n",
    "    for i in range(n):\n",
    "        s += (A[i, :] * B[p[i], p]).sum()\n",
    "    return s"
   ]
  },
  {
   "cell_type": "code",
   "execution_count": null,
   "metadata": {
    "scrolled": false
   },
   "outputs": [],
   "source": [
    "population_size = 500\n",
    "number_of_offspring = population_size\n",
    "crossover_probability = 0.95\n",
    "mutation_probability = 0.25\n",
    "number_of_iterations = 250\n",
    "\n",
    "for qap in qap_data:\n",
    "    A, B, n = get_qap_data(qap)\n",
    "    kwargs = {  \n",
    "            'population_size':population_size,\n",
    "            'chromosome_length': n,\n",
    "            'number_of_offspring':number_of_offspring,\n",
    "            'crossover_probability':crossover_probability,\n",
    "            'mutation_probability':mutation_probability,\n",
    "            'number_of_iterations': n*3,\n",
    "            'tsp_objective_function':lambda x: qap_objective_function(x, A, B, n),\n",
    "            'operator':PMX,\n",
    "            'mutation':reverse_sequence_mutation,\n",
    "            'local_search_mut_propability':0.001,\n",
    "            'local_search_mut_K':3,\n",
    "        }\n",
    "    \n",
    "    plot_scores(title=qap, **kwargs)"
   ]
  },
  {
   "cell_type": "code",
   "execution_count": null,
   "metadata": {
    "collapsed": true
   },
   "outputs": [],
   "source": []
  }
 ],
 "metadata": {
  "kernelspec": {
   "display_name": "Python 3",
   "language": "python",
   "name": "python3"
  },
  "language_info": {
   "codemirror_mode": {
    "name": "ipython",
    "version": 3
   },
   "file_extension": ".py",
   "mimetype": "text/x-python",
   "name": "python",
   "nbconvert_exporter": "python",
   "pygments_lexer": "ipython3",
   "version": "3.6.3"
  }
 },
 "nbformat": 4,
 "nbformat_minor": 2
}
