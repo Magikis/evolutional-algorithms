{
 "cells": [
  {
   "cell_type": "code",
   "execution_count": 5,
   "metadata": {},
   "outputs": [
    {
     "name": "stdout",
     "output_type": "stream",
     "text": [
      "The autoreload extension is already loaded. To reload it, use:\n",
      "  %reload_ext autoreload\n"
     ]
    }
   ],
   "source": [
    "import numpy as np\n",
    "import matplotlib.pyplot as plt\n",
    "%load_ext autoreload\n",
    "%autoreload 2\n",
    "\n",
    "from ES import ES_mu_lambda\n",
    "from functions import (Griewank)"
   ]
  },
  {
   "cell_type": "code",
   "execution_count": null,
   "metadata": {},
   "outputs": [],
   "source": [
    " τ = K/√(2d) i τ0 = K/√(2√ d),\n",
    "default_kwargs = {\n",
    "    population_evaluation,\n",
    "    individual_size,\n",
    "    iterations=50,\n",
    "    plus=False,\n",
    "    Mu=500,\n",
    "    Lambda=500,\n",
    "    Tau=1,\n",
    "    Tau0=1,\n",
    "    domain=(0,1),\n",
    "    verbose=False,\n",
    "}\n",
    "ES_mu_lambda(\n",
    ")"
   ]
  }
 ],
 "metadata": {
  "kernelspec": {
   "display_name": "Python 3",
   "language": "python",
   "name": "python3"
  },
  "language_info": {
   "codemirror_mode": {
    "name": "ipython",
    "version": 3
   },
   "file_extension": ".py",
   "mimetype": "text/x-python",
   "name": "python",
   "nbconvert_exporter": "python",
   "pygments_lexer": "ipython3",
   "version": "3.7.1"
  }
 },
 "nbformat": 4,
 "nbformat_minor": 2
}
