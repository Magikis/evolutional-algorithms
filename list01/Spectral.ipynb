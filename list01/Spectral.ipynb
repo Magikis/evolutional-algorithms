{
 "cells": [
  {
   "cell_type": "code",
   "execution_count": 1,
   "metadata": {},
   "outputs": [
    {
     "name": "stdout",
     "output_type": "stream",
     "text": [
      "Populating the interactive namespace from numpy and matplotlib\n"
     ]
    }
   ],
   "source": [
    "import numpy as np\n",
    "from scipy.stats import mode\n",
    "from pbil import pbil\n",
    "import multiprocessing\n",
    "%pylab inline\n",
    "%load_ext autoreload\n",
    "%autoreload 2"
   ]
  },
  {
   "cell_type": "code",
   "execution_count": 2,
   "metadata": {},
   "outputs": [
    {
     "data": {
      "text/plain": [
       "((3, 9350), (9350,), (266, 9350))"
      ]
     },
     "execution_count": 2,
     "metadata": {},
     "output_type": "execute_result"
    }
   ],
   "source": [
    "data = np.loadtxt('../data/ImageRawReduced.txt')\n",
    "targets = np.loadtxt('../data/ImageExpertReduced.txt')\n",
    "rules = np.loadtxt('../data/ClassificationRules.txt')\n",
    "data.shape, targets.shape, rules.shape"
   ]
  },
  {
   "cell_type": "code",
   "execution_count": 3,
   "metadata": {},
   "outputs": [],
   "source": [
    "def draw_plots(scores_history, props_history, problem_title=None):\n",
    "    fig, (ax1, ax2) = plt.subplots(1,2, figsize=(15,4))\n",
    "    if problem_title:\n",
    "        fig.suptitle(problem_title, fontsize=20)\n",
    "    ax1.plot(np.arange(len(scores_history)), scores_history)\n",
    "    ax1.set_xlabel('Iteration')\n",
    "    ax1.set_ylabel('Score')\n",
    "    ax1.set_title('Progress')\n",
    "\n",
    "    \n",
    "    for x in np.array(props_history).T:\n",
    "        ax2.plot(np.arange(x.size), x)\n",
    "        ax2.set_title('Propabilities')\n",
    "        ax2.set_xlabel('Iteration')\n",
    "        ax2.set_ylabel('Propability')\n",
    "    plt.show()"
   ]
  },
  {
   "cell_type": "code",
   "execution_count": 4,
   "metadata": {},
   "outputs": [],
   "source": [
    "def process_instance(rules_mask):\n",
    "            return (mode(\n",
    "                rules[rules_mask],\n",
    "                axis=0\n",
    "            )[0] == targets).sum()\n",
    "    \n",
    "def f(pop):\n",
    "    res = np.zeros((pop.shape[0], targets.size))\n",
    "    with multiprocessing.Pool(processes=multiprocessing.cpu_count()) as pool:\n",
    "        res = pool.map(process_instance, [x for x in pop])\n",
    "    return np.array(res)"
   ]
  },
  {
   "cell_type": "code",
   "execution_count": null,
   "metadata": {},
   "outputs": [],
   "source": [
    "%%time\n",
    "res = pbil(\n",
    "    f,\n",
    "    vec_size=rules.shape[0],\n",
    "    pop_size=100,\n",
    "    iterations=4000,\n",
    "    theta1=0.1,\n",
    "    theta2=0.07,\n",
    "    theta3=0.05,\n",
    ")\n",
    "draw_plots(res[1], res[2], 'Spectral')"
   ]
  }
 ],
 "metadata": {
  "kernelspec": {
   "display_name": "Python 3",
   "language": "python",
   "name": "python3"
  },
  "language_info": {
   "codemirror_mode": {
    "name": "ipython",
    "version": 3
   },
   "file_extension": ".py",
   "mimetype": "text/x-python",
   "name": "python",
   "nbconvert_exporter": "python",
   "pygments_lexer": "ipython3",
   "version": "3.7.1"
  }
 },
 "nbformat": 4,
 "nbformat_minor": 2
}
